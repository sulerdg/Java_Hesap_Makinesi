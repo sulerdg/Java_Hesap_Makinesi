{
  "nbformat": 4,
  "nbformat_minor": 0,
  "metadata": {
    "colab": {
      "provenance": [],
      "authorship_tag": "ABX9TyNIVi3coqqtL8I36sdVHx7r",
      "include_colab_link": true
    },
    "kernelspec": {
      "name": "python3",
      "display_name": "Python 3"
    },
    "language_info": {
      "name": "python"
    }
  },
  "cells": [
    {
      "cell_type": "markdown",
      "metadata": {
        "id": "view-in-github",
        "colab_type": "text"
      },
      "source": [
        "<a href=\"https://colab.research.google.com/github/sulerdg/Java_Hesap_Makinesi/blob/main/proje_sule_erdag_.ipynb\" target=\"_parent\"><img src=\"https://colab.research.google.com/assets/colab-badge.svg\" alt=\"Open In Colab\"/></a>"
      ]
    },
    {
      "cell_type": "code",
      "execution_count": null,
      "metadata": {
        "id": "ZrMvLumyu2ee",
        "outputId": "dea62d71-823e-41a4-e5b0-fb99bf343ebc",
        "colab": {
          "base_uri": "https://localhost:8080/"
        }
      },
      "outputs": [
        {
          "output_type": "stream",
          "name": "stdout",
          "text": [
            "Merhaba PyPizza'ya Hoşgeldiniz..\n"
          ]
        }
      ],
      "source": [
        "from os import close\n",
        "print(\"Merhaba PyPizza'ya Hoşgeldiniz..\")\n",
        " \n",
        "pizza_boyut = input('Lütfen Hangi Boyutta Pizza İstediğinizi Seciniz : \"S\", \"M\" veya \"L\"... Seçiminiz : ')\n",
        "ekstra_malzeme = input('Fazladan Malzeme İstiyor Musunuz? \"Evet\" veya \"Hayır\"... Seçiminiz : ')\n",
        "malzeme_secin = input ('Hangi Malzemelerden İstediğinizi Menüden Seçiniz : ')\n",
        "icecek = input ('İçecek Alıyor Musunuz? \"Evet\" veya \"Hayır\"... Seçiminiz : ')\n",
        "\n",
        "\n",
        "from datetime import datetime\n",
        "\n",
        "questions = [\n",
        "    {     \n",
        "        'choices': [ \n",
        "             {\n",
        "                'number_1': 'Klasik'\n",
        "             },\n",
        "             {\n",
        "                'number_2': 'Margarita'\n",
        "            },\n",
        "             {\n",
        "                'number_3': 'TürkPizza '\n",
        "            },\n",
        "             {\n",
        "                'number_4': 'Sade Pizza '\n",
        "            },\n",
        "           \n",
        "            {\n",
        "                'number_5': 'Zeytin '\n",
        "            },\n",
        "            {\n",
        "                'number_6': 'Mantarlar '\n",
        "            },\n",
        "            {\n",
        "                'number_7': ' Keçi Peyniri '\n",
        "            },\n",
        "          \n",
        "            {\n",
        "                'number_8': 'Et ',\n",
        "            },\n",
        "            {\n",
        "                'number_9': 'Soğan '\n",
        "            },\n",
        "            {\n",
        "                'number_10': 'Mısır'\n",
        "            },\n",
        " ]        \n",
        "    }\n",
        "]\n",
        "\n",
        "\n",
        "hesap = 0 \n",
        " \n",
        "if pizza_boyut == \"S\":\n",
        "  hesap += 25\n",
        "elif pizza_boyut == \"M\":\n",
        "  hesap += 30\n",
        "else:\n",
        "  hesap += 45\n",
        " \n",
        "if ekstra_malzeme == \"Evet\":\n",
        "  if pizza_boyut == \"S\":\n",
        "    hesap += 3\n",
        "  else:\n",
        "    hesap += 5\n",
        "\n",
        "if icecek == \"Evet\":\n",
        "  hesap += 7\n",
        "  \n",
        "print(f\"Toplam tutar : {hesap} TL.\")"
      ]
    }
  ]
}